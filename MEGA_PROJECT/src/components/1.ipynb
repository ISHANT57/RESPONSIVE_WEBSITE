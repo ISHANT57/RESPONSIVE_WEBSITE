{
 "cells": [
  {
   "cell_type": "code",
   "execution_count": 1,
   "id": "af64e0aa",
   "metadata": {},
   "outputs": [
    {
     "name": "stdout",
     "output_type": "stream",
     "text": [
      "Capitalize The Title\n"
     ]
    }
   ],
   "source": [
    "title = \"capiTalIze tHe titLe\"\n",
    "print(title.title())"
   ]
  },
  {
   "cell_type": "code",
   "execution_count": null,
   "id": "3b860da2",
   "metadata": {},
   "outputs": [],
   "source": []
  }
 ],
 "metadata": {
  "kernelspec": {
   "display_name": "base",
   "language": "python",
   "name": "python3"
  },
  "language_info": {
   "codemirror_mode": {
    "name": "ipython",
    "version": 3
   },
   "file_extension": ".py",
   "mimetype": "text/x-python",
   "name": "python",
   "nbconvert_exporter": "python",
   "pygments_lexer": "ipython3",
   "version": "3.12.4"
  }
 },
 "nbformat": 4,
 "nbformat_minor": 5
}
